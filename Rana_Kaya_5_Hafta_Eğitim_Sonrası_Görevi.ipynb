{
  "nbformat": 4,
  "nbformat_minor": 0,
  "metadata": {
    "colab": {
      "provenance": [],
      "collapsed_sections": [],
      "include_colab_link": true
    },
    "kernelspec": {
      "name": "python3",
      "display_name": "Python 3"
    },
    "language_info": {
      "name": "python"
    }
  },
  "cells": [
    {
      "cell_type": "markdown",
      "metadata": {
        "id": "view-in-github",
        "colab_type": "text"
      },
      "source": [
        "<a href=\"https://colab.research.google.com/github/lkayarana/YetGen_Jump_Python/blob/main/Rana_Kaya_5_Hafta_E%C4%9Fitim_Sonras%C4%B1_G%C3%B6revi.ipynb\" target=\"_parent\"><img src=\"https://colab.research.google.com/assets/colab-badge.svg\" alt=\"Open In Colab\"/></a>"
      ]
    },
    {
      "cell_type": "markdown",
      "source": [
        "# Problem 1\n",
        "\n",
        "0'dan 10'a kadar olan sayıların toplamını hesaplayan özyinelemeli bir fonksiyon oluşturan bir fonksiyon yazınız.\n",
        "\n",
        "Özyinelemeli bir işlev, kendini tekrar tekrar çağıran bir işlevdir."
      ],
      "metadata": {
        "id": "9SIIri9AXbPN"
      }
    },
    {
      "cell_type": "code",
      "execution_count": null,
      "metadata": {
        "id": "z7Mxxk2mQj3P",
        "colab": {
          "base_uri": "https://localhost:8080/"
        },
        "outputId": "81f676eb-27e3-4182-dcb4-e71c497b5c9c"
      },
      "outputs": [
        {
          "output_type": "stream",
          "name": "stdout",
          "text": [
            "55\n",
            "0\n"
          ]
        }
      ],
      "source": [
        "# 1. problemimiz için kodlarını buraya yazabilirsin.\n",
        "def sum(number):\n",
        "  if number>0:\n",
        "    return number + sum(number -1)\n",
        "  else:\n",
        "    return 0\n",
        "\n",
        "result = sum(10)\n",
        "result1=sum(0)\n",
        "print(result)\n",
        "print(result1)"
      ]
    },
    {
      "cell_type": "markdown",
      "source": [
        "# Problem 2\n",
        "Verilen bir listeden çift sayıları yazdıran bir fonksiyon yazınız.\n",
        "\n"
      ],
      "metadata": {
        "id": "OsED1gz0YYxa"
      }
    },
    {
      "cell_type": "code",
      "source": [
        "# 2. problemimizin kodlarını buraya yazabilirsin.\n",
        "def even_numbers(x):\n",
        "  enum=[]\n",
        "  for n in x:\n",
        "    if n % 2==0:\n",
        "      enum.append(n)\n",
        "  return enum\n",
        "\n",
        "print(even_numbers([1, 2, 3, 4, 5, 6, 7, 8, 9, 10]))"
      ],
      "metadata": {
        "id": "J_X_k4eNYZGQ",
        "colab": {
          "base_uri": "https://localhost:8080/"
        },
        "outputId": "a9561d32-facb-492c-a188-904314d6975a"
      },
      "execution_count": null,
      "outputs": [
        {
          "output_type": "stream",
          "name": "stdout",
          "text": [
            "[2, 4, 6, 8, 10]\n"
          ]
        }
      ]
    },
    {
      "cell_type": "markdown",
      "source": [
        "# Problem 3\n",
        "\n",
        "Listedeki tüm sayıları çarpmak için bir fonksiyon yazınız.\t "
      ],
      "metadata": {
        "id": "D2D9PfeaY-Qp"
      }
    },
    {
      "cell_type": "code",
      "source": [
        "# 3. problemimiz için kodlarını buraya yazabilirsin.\n",
        "def multiply(x):\n",
        "  total=1\n",
        "  for n in x:\n",
        "    total *=n\n",
        "  return total\n",
        "\n",
        "print(multiply((2, 6, 7, 2, 9, -18, 3)))"
      ],
      "metadata": {
        "id": "m_K01-L6YuYd",
        "colab": {
          "base_uri": "https://localhost:8080/"
        },
        "outputId": "440849b9-dd94-4b2d-9ab0-f07bcf5e5bf5"
      },
      "execution_count": null,
      "outputs": [
        {
          "output_type": "stream",
          "name": "stdout",
          "text": [
            "-81648\n"
          ]
        }
      ]
    },
    {
      "cell_type": "markdown",
      "source": [
        "#Problem 4\n",
        "\n",
        "Bir liste alan ve ilk listenin benzersiz öğeleriyle yeni bir liste döndüren bir fonksiyon yazınız."
      ],
      "metadata": {
        "id": "ZEMv0yn-YjgH"
      }
    },
    {
      "cell_type": "code",
      "source": [
        "# 4. problemimiz için kodlarını buraya yazabilirsin.\n",
        "unique=[]\n",
        "\n",
        "def unique_list(x):\n",
        "  for n in x:\n",
        "    if n not in unique:\n",
        "      unique.append(n)\n",
        "  return unique\n",
        "\n",
        "print(unique_list([4, 3, 6, 2, 7, 5, 7, 2, 0, 5, 7]))"
      ],
      "metadata": {
        "id": "2Y2L8zfXY5hE",
        "colab": {
          "base_uri": "https://localhost:8080/"
        },
        "outputId": "1c8d33d2-94aa-440e-c17b-835c4320666b"
      },
      "execution_count": null,
      "outputs": [
        {
          "output_type": "stream",
          "name": "stdout",
          "text": [
            "[4, 3, 6, 2, 7, 5, 0]\n"
          ]
        }
      ]
    },
    {
      "cell_type": "markdown",
      "source": [
        "#Problem 5\n",
        "\n",
        "Bir kelimedeki ünlü ve ünsüz harfleri sayan bir fonksiyon yazınız."
      ],
      "metadata": {
        "id": "nhqmExcDhZrP"
      }
    },
    {
      "cell_type": "code",
      "source": [
        "# 5. problemimiz için kodlarını buraya yazabilirsin.\n",
        "def vovel(x):\n",
        "  vovels=0\n",
        "  constans=0\n",
        "  for i in range(len(x)):\n",
        "    if x[i] in [\"a\", \"e\", \"i\", \"ü\", \"ö\"]:\n",
        "      vovels=vovels+1\n",
        "    else:\n",
        "      constans=constans+1\n",
        "  print(\"Ünlü harf sayısı: \", vovels)\n",
        "  print(\"Ünsüz harf sayısı: \", constans)\n",
        "word=input(\"Kelimeyi giriniz: \")\n",
        "vovel(word.lower())"
      ],
      "metadata": {
        "id": "6D5HfqoKhZrQ"
      },
      "execution_count": null,
      "outputs": []
    }
  ]
}