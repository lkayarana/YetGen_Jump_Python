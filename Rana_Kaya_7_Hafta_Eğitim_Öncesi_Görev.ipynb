{
  "metadata": {
    "kernelspec": {
      "language": "python",
      "display_name": "Python 3",
      "name": "python3"
    },
    "language_info": {
      "name": "python",
      "version": "3.7.6",
      "mimetype": "text/x-python",
      "codemirror_mode": {
        "name": "ipython",
        "version": 3
      },
      "pygments_lexer": "ipython3",
      "nbconvert_exporter": "python",
      "file_extension": ".py"
    },
    "colab": {
      "provenance": [],
      "collapsed_sections": [],
      "include_colab_link": true
    }
  },
  "nbformat_minor": 0,
  "nbformat": 4,
  "cells": [
    {
      "cell_type": "markdown",
      "metadata": {
        "id": "view-in-github",
        "colab_type": "text"
      },
      "source": [
        "<a href=\"https://colab.research.google.com/github/lkayarana/YetGen_Jump_Python/blob/main/Rana_Kaya_7_Hafta_E%C4%9Fitim_%C3%96ncesi_G%C3%B6rev.ipynb\" target=\"_parent\"><img src=\"https://colab.research.google.com/assets/colab-badge.svg\" alt=\"Open In Colab\"/></a>"
      ]
    },
    {
      "cell_type": "markdown",
      "source": [
        "# Problemlere Hazırlık"
      ],
      "metadata": {
        "id": "LuMoKx3yU276"
      }
    },
    {
      "cell_type": "markdown",
      "source": [
        "Değerli Jumperımız 7. Hafta Eğitim Öncesi Görevine Hoş Geldin!\n",
        "\n",
        "Görevini tamamlamaya başlamadan önce senden aşağıdaki iki kod bloğunu çalıştırmanı ve görevin sırasında kullanacağın dosyalarını indirmeni istiyoruz. Bu sayede yazdığın programları daha iyi test edebileceksin.\n",
        "\n",
        "**Unutma!** Bu Google Colab üzerinde **her çalışmaya başladığında** aşağıdaki iki kod satırını çalıştırmalısın.\n",
        "\n",
        "Senden aşağıdaki iki kod bloğunda herhangi bir **değişiklik yapmamanı** rica ediyoruz. Aksi halde ne yazık ki görevini değerlendiremeyeceğiz."
      ],
      "metadata": {
        "id": "NA9AcPdBU8N5"
      }
    },
    {
      "cell_type": "code",
      "source": [
        "file1 = open(\"demo.txt\",\"w\",encoding=\"utf-8\")\n",
        "file1.write(\"Hello! Welcome to demofile.txt\\nThis file is for testing purposes.\\nGood Luck!\")\n",
        "file1.close()"
      ],
      "metadata": {
        "id": "0DpyoeuzTL48"
      },
      "execution_count": null,
      "outputs": []
    },
    {
      "cell_type": "code",
      "source": [
        "file2 = open(\"test.txt\",\"w\",encoding=\"utf-8\")\n",
        "file2.write(\"Berkcan\\nEmirhan\\nÇağla\\nEnes\\nAdem\\nAhmet\\nBeyza\")\n",
        "file2.close()"
      ],
      "metadata": {
        "id": "d12ocOm2TnhF"
      },
      "execution_count": null,
      "outputs": []
    },
    {
      "cell_type": "markdown",
      "source": [
        "# Problem 1\n",
        "```test.txt``` dosyasındaki satır sayısını bularak ekrana yazdırınız.\n",
        "\n",
        "\n",
        "\n",
        "```\n",
        "> Output\n",
        "Number of lines in the file:  6\n",
        "\n",
        "```\n",
        "\n"
      ],
      "metadata": {
        "id": "jqzw00efW8cV"
      }
    },
    {
      "cell_type": "code",
      "source": [
        "# 1. Problem için çözümünüzü buraya yazınız.\n",
        "def file_length(fname):\n",
        "  with open(fname) as f:\n",
        "    for i, l in enumerate(f):\n",
        "             pass\n",
        "  return i + 1\n",
        "\n",
        "print(\"test.txt dosyasındaki satır sayısı: \", file_length(\"test.txt\"))"
      ],
      "metadata": {
        "id": "nQ2tV5HAXSOu",
        "colab": {
          "base_uri": "https://localhost:8080/"
        },
        "outputId": "748d0ac1-4c48-471a-a619-533a27f68916"
      },
      "execution_count": null,
      "outputs": [
        {
          "output_type": "stream",
          "name": "stdout",
          "text": [
            "test.txt dosyasındaki satır sayısı:  7\n"
          ]
        }
      ]
    },
    {
      "cell_type": "markdown",
      "source": [
        " # Problem 2\n",
        " \n",
        "```test.txt``` dosyasını satır satır okuyun ve bir listede saklayınız. Daha sonra listeyi ekrana bastırınız."
      ],
      "metadata": {
        "id": "AM6tnHhpXw9c"
      }
    },
    {
      "cell_type": "code",
      "source": [
        "# 2. Problem için çözümünüzü buraya yazınız.\n",
        "def file_read(fname):\n",
        "  with open(fname) as f:\n",
        "    content_list=f.readlines()\n",
        "    print(content_list)\n",
        "\n",
        "file_read(\"test.txt\")"
      ],
      "metadata": {
        "id": "mUxpDhFTYC9k",
        "colab": {
          "base_uri": "https://localhost:8080/"
        },
        "outputId": "dd23a1a3-98df-410a-9142-0bbcadcffc59"
      },
      "execution_count": null,
      "outputs": [
        {
          "output_type": "stream",
          "name": "stdout",
          "text": [
            "['Berkcan\\n', 'Emirhan\\n', 'Çağla\\n', 'Enes\\n', 'Adem\\n', 'Ahmet\\n', 'Beyza']\n"
          ]
        }
      ]
    },
    {
      "cell_type": "markdown",
      "source": [
        "# Problem 3\n",
        "\n",
        "\n",
        "Çeşitli metin dosyalarından karakterleri ayıklamak ve bir listeye koymak için bir Python programı yazın. ```test.txt``` ve ```demo.txt``` dosyalarından faydalanabilirsiniz."
      ],
      "metadata": {
        "id": "GyW22PhtYLY2"
      }
    },
    {
      "cell_type": "code",
      "source": [
        "# 3. Problem için çözümünüzü buraya yazınız.\n",
        "\n",
        "# YetNot: Glob modülü, Python’da belirli bir klasör içindeki dosyaları listelememize yardımcı olan harika bir modüldür.  \n",
        "import glob\n",
        "char_list=[]\n",
        "files_list=glob.glob(\"*.txt\")\n",
        "\n",
        "for file_elem in files_list:\n",
        "  with open(file_elem, \"r\") as f:\n",
        "    char_list.append(f.read())\n",
        "\n",
        "print(char_list)"
      ],
      "metadata": {
        "id": "aQ9I3U73YULj",
        "colab": {
          "base_uri": "https://localhost:8080/"
        },
        "outputId": "82e4c9bf-9ef7-4233-938d-1aefa28595f7"
      },
      "execution_count": null,
      "outputs": [
        {
          "output_type": "stream",
          "name": "stdout",
          "text": [
            "['Berkcan\\nEmirhan\\nÇağla\\nEnes\\nAdem\\nAhmet\\nBeyza', 'Hello! Welcome to demofile.txt\\nThis file is for testing purposes.\\nGood Luck!']\n"
          ]
        }
      ]
    },
    {
      "cell_type": "code",
      "source": [],
      "metadata": {
        "id": "uRm2hRqLkJMu"
      },
      "execution_count": null,
      "outputs": []
    }
  ]
}