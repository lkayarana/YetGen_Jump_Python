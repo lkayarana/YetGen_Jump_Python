{
  "nbformat": 4,
  "nbformat_minor": 0,
  "metadata": {
    "colab": {
      "provenance": [],
      "collapsed_sections": [],
      "include_colab_link": true
    },
    "kernelspec": {
      "name": "python3",
      "display_name": "Python 3"
    },
    "language_info": {
      "name": "python"
    }
  },
  "cells": [
    {
      "cell_type": "markdown",
      "metadata": {
        "id": "view-in-github",
        "colab_type": "text"
      },
      "source": [
        "<a href=\"https://colab.research.google.com/github/lkayarana/YetGen_Jump_Python/blob/main/Rana_Kaya_4_Hafta_E%C4%9Fitim_%C3%96ncesi_G%C3%B6revi.ipynb\" target=\"_parent\"><img src=\"https://colab.research.google.com/assets/colab-badge.svg\" alt=\"Open In Colab\"/></a>"
      ]
    },
    {
      "cell_type": "markdown",
      "source": [
        "# Problem 1\n",
        "Sözlükleri kullanarak bir telefon rehberi yazın. Bu rehberde kullanıcıya kimin telefonunu görüntülemek istediğini sorun ve kullanıcının girdiği isme göre o kişinin telefon numarasını yazdırın. Proje sonunda elde edeceğiniz çıktı  şuna benzer olmalı:\n",
        "\n",
        "\n",
        "Lütfen numarasını öğrenmek istediğiniz kişinin adını girin: Ahmet\n",
        "Ahmet isimli kişinin numarası şu şekildedir: 0532 862 98 47"
      ],
      "metadata": {
        "id": "9SIIri9AXbPN"
      }
    },
    {
      "cell_type": "code",
      "execution_count": null,
      "metadata": {
        "id": "z7Mxxk2mQj3P",
        "colab": {
          "base_uri": "https://localhost:8080/"
        },
        "outputId": "6b69f927-a502-437b-8a01-92734d77b49a"
      },
      "outputs": [
        {
          "output_type": "stream",
          "name": "stdout",
          "text": [
            "Lütfen numarasını öğrenmek istediğiniz kişinin adını girin:ayse\n",
            "ayse = 0524348644664\n"
          ]
        }
      ],
      "source": [
        "# 1. problemimiz için kodlarını buraya yazabilirsin.\n",
        "name=(input(\"Lütfen numarasını öğrenmek istediğiniz kişinin adını girin:\"))\n",
        "\n",
        "contacts={\n",
        "          \"ahmet\" : \"0531234556787\",\n",
        "          \"veli\" : \"0531384548584\",\n",
        "          \"mehmet\" : \"05324586594\",\n",
        "          \"melisa\" : \"05313355577\",\n",
        "          \"ayse\" : \"0524348644664\",\n",
        "          \"fatma\" : \"053735474357\"\n",
        "    \n",
        "}\n",
        "\n",
        "print(\"{} = {}\".format(name, contacts[name]))"
      ]
    },
    {
      "cell_type": "markdown",
      "source": [
        "# Problem 2\n",
        "Sözlükleri kullanarak bir şirket çalışanları indeksi oluşturun. Bu isim indeksinde kişilerin isimleri key, kişilerin şu \n",
        "bilgileri de value olmalı: memleket, yaş, görev. Burada kullanacağımız value liste olmalı. \n",
        "\n",
        "\n",
        "Daha sonra bir isim sorgulama ekranı gibi kullanıcıya kimin bilgilerini görüntülemek istediğini \n",
        "sorun ve sorgulanan kişinin ekranda gösterilmesini sağlayın. Proje sonunda elde edeceğiniz çıktı şu şekilde olmalı:\n",
        "\n",
        "\n",
        "Lütfen bilgilerini görüntülemek istediğiniz çalışanın ismini girin: Mehmet Yağız\n",
        "Mehmet Yağız= Memleket: Adana Yaş: 40 Görev: Direktör"
      ],
      "metadata": {
        "id": "idPSxmhFX4-e"
      }
    },
    {
      "cell_type": "code",
      "source": [
        "# 2. problemimiz için kodlarını buraya yazabilirsin.\n",
        "stuff={\n",
        "    \"Ahmet\" : [\"Giresun\", \"23\", \"Operatör\"],\n",
        "    \"Merve\" : [\"Kütahya\", \"42\", \"Müdür\"],\n",
        "    \"Yunus\" : [\"Mersin\", \"37\", \"İnsan Kaynakları\"],\n",
        "    \"Emre\" : [\"Ordu\", \"30\", \"Müdür\"],\n",
        "    \"Rana\" : [\"Ardahan\", \"30\", \"Müdür\"]\n",
        "}\n",
        "\n",
        "stuff_name=input(\"Bilgilerini görüntülemek istediğiniz isimi giriniz:\")\n",
        "print(stuff_name + \" = Memleket:\" + stuff[stuff_name][0] + \" Yaş:\" + stuff[stuff_name][1] + \" Görev:\" + stuff[stuff_name][2])"
      ],
      "metadata": {
        "id": "nDS9MpcwYL4q",
        "colab": {
          "base_uri": "https://localhost:8080/"
        },
        "outputId": "d1884584-1d17-4c93-d4b4-b89512a54845"
      },
      "execution_count": null,
      "outputs": [
        {
          "output_type": "stream",
          "name": "stdout",
          "text": [
            "Bilgilerini görüntülemek istediğiniz isimi giriniz:Emre\n",
            "Emre = Memleket:Ordu Yaş:30 Görev:Müdür\n"
          ]
        }
      ]
    },
    {
      "cell_type": "markdown",
      "source": [
        "# Problem 3\n",
        "\n",
        "5 öğrenciden oluşan bir öğrenci not sözlüğü oluşturun. Bu sözlükte \n",
        "öğrencilerin notları value olarak bir listede toplansın.\n",
        "\n",
        "Kullanıcıya hangi öğrencinin notlarını görmek istediğini sorun. \n",
        "\n",
        "Öğrencinin notu görüntülendiğinde program sonunda şöyle bir çıktı elde etmelisiniz:\n",
        "```\n",
        "Lütfen notlarını görmek istediğiniz öğrencinin adını girin: Mehmet\n",
        "\n",
        "Mehmet isimli öğrencinin      1.Sınav Notu:72\n",
        "                              2.Sınav Notu:66\n",
        "\n",
        "                              3.Sınav Notu:48\n",
        "Not Ortalaması: 62.0\n"
      ],
      "metadata": {
        "id": "OsED1gz0YYxa"
      }
    },
    {
      "cell_type": "code",
      "source": [
        "# 3. problemimiz için kodlarını buraya yazabilirsin.\n",
        "names={\n",
        "    \"Arda\":[70, 40, 89],\n",
        "    \"Buket\":[45, 70, 100],\n",
        "    \"Batuhan\":[30, 60, 85],\n",
        "    \"Büşra\":[70, 80, 90],\n",
        "    \"Emre\":[70, 90, 100]\n",
        "}\n",
        "\n",
        "name=input(\"Notlarını görmek istediğiniz öğrencinin adını giriniz:\")\n",
        "mean=(names[name][0]+names[name][1]+names[name][2])/3\n",
        "print(\n",
        "    name + \" isimli öğrencinin 1.Sınav Notu: \" + str(names[name][0])+\n",
        "                              \" 2.Sınav Notu: \" + str(names[name][1]) +\n",
        "                              \" 3.Sınav Notu: \" +  str(names[name][2]) +\n",
        "                              \" Ortalama: \" + str(mean)\n",
        ")"
      ],
      "metadata": {
        "id": "J_X_k4eNYZGQ",
        "colab": {
          "base_uri": "https://localhost:8080/",
          "height": 235
        },
        "outputId": "2456cb39-3e9e-4336-d112-7055b3de2f25"
      },
      "execution_count": null,
      "outputs": [
        {
          "name": "stdout",
          "output_type": "stream",
          "text": [
            "Notlarını görmek istediğiniz öğrencinin adını giriniz:Emre\n"
          ]
        },
        {
          "output_type": "error",
          "ename": "TypeError",
          "evalue": "ignored",
          "traceback": [
            "\u001b[0;31m---------------------------------------------------------------------------\u001b[0m",
            "\u001b[0;31mTypeError\u001b[0m                                 Traceback (most recent call last)",
            "\u001b[0;32m<ipython-input-27-4f3d301c4cad>\u001b[0m in \u001b[0;36m<module>\u001b[0;34m\u001b[0m\n\u001b[1;32m     14\u001b[0m                               \u001b[0;34m\" 2.Sınav Notu: \"\u001b[0m \u001b[0;34m+\u001b[0m \u001b[0mstr\u001b[0m\u001b[0;34m(\u001b[0m\u001b[0mnames\u001b[0m\u001b[0;34m[\u001b[0m\u001b[0mname\u001b[0m\u001b[0;34m]\u001b[0m\u001b[0;34m[\u001b[0m\u001b[0;36m1\u001b[0m\u001b[0;34m]\u001b[0m\u001b[0;34m)\u001b[0m \u001b[0;34m+\u001b[0m\u001b[0;34m\u001b[0m\u001b[0;34m\u001b[0m\u001b[0m\n\u001b[1;32m     15\u001b[0m                               \u001b[0;34m\" 3.Sınav Notu: \"\u001b[0m \u001b[0;34m+\u001b[0m  \u001b[0mstr\u001b[0m\u001b[0;34m(\u001b[0m\u001b[0mnames\u001b[0m\u001b[0;34m[\u001b[0m\u001b[0mname\u001b[0m\u001b[0;34m]\u001b[0m\u001b[0;34m[\u001b[0m\u001b[0;36m2\u001b[0m\u001b[0;34m]\u001b[0m\u001b[0;34m)\u001b[0m \u001b[0;34m+\u001b[0m\u001b[0;34m\u001b[0m\u001b[0;34m\u001b[0m\u001b[0m\n\u001b[0;32m---> 16\u001b[0;31m                               \u001b[0;34m\" Ortalama: \"\u001b[0m \u001b[0;34m+\u001b[0m \u001b[0mstr\u001b[0m\u001b[0;34m(\u001b[0m\u001b[0mmean\u001b[0m\u001b[0;34m)\u001b[0m\u001b[0;34m\u001b[0m\u001b[0;34m\u001b[0m\u001b[0m\n\u001b[0m\u001b[1;32m     17\u001b[0m )\n",
            "\u001b[0;31mTypeError\u001b[0m: 'str' object is not callable"
          ]
        }
      ]
    },
    {
      "cell_type": "markdown",
      "source": [
        "#Problem 4\n"
      ],
      "metadata": {
        "id": "ZEMv0yn-YjgH"
      }
    },
    {
      "cell_type": "code",
      "source": [
        "# 1-  \"Bmw, Mercedes, Opel, Mazda\" elemanlarına sahip bir liste oluşturunuz.\n",
        "brands=[\"Bmw\", \"Mercedes\", \"Opel\", \"Mazda\"]\n",
        "print(brands)\n",
        "\n",
        "# 2-  Liste Kaç elemanlıdır ?\n",
        "print(len(brands))\n",
        "\n",
        "# 3-  Listenin ilk ve son elemanı nedir ?\n",
        "print(brands[0])\n",
        "print(brands[-1])\n",
        "\n",
        "# 4-  Mazda değerini Toyota ile değiştirin.\n",
        "brands[-1]= 'Toyota'\n",
        "print(brands)\n",
        "\n",
        "# 5-  Listenin -2 indeksindeki değer nedir ?\n",
        "print(brands[-2])\n",
        "\n",
        "# 6-  Listenin ilk 3 elemanını alın.\n",
        "print(brands[0:3])\n",
        "\n",
        "# 7-  Listenin son 2 elemanı yerine \"Toyota\" ve \"Renault\" değerlerini ekleyin.\n",
        "brands[-2:] = [\"Toyota\", \"Renault\"]\n",
        "print(brands)\n",
        "\n",
        "# 8-  Listenin üzerine \"Audi\" ve \"Nissan\" değerlerini ekleyin.\n",
        "add= brands + [\"Audi\", \"Nissan\"]\n",
        "print(brands)\n",
        "\n",
        "# 9- Listenin son elemanını silin.\n",
        "del brands[-1]\n",
        "print(brands)\n",
        "\n",
        "# 10- Liste elemanlarını tersten yazdırınız.\n",
        "print(brands[::-1])\n",
        "\n",
        "# 11- Liste elemanlarını ekrana yazdırınız.\n",
        "  \n",
        "names = ['Ali','Yağmur','Hakan','Deniz']\n",
        "years = [1998, 2000, 1998, 1987]\n",
        "\n",
        "print(names)\n",
        "print(years)\n",
        "\n",
        "# 12-  \"Cenk\" ismini listenin sonuna ekleyiniz.\n",
        "names.append(\"Cenk\")\n",
        "print(names)\n",
        "\n",
        "# 13-  \"Sena\" değerini listenin başına ekleyiniz.,\n",
        "names.insert(0, \"Sena\")\n",
        "print(names)\n",
        "\n",
        "# 14-  \"Deniz\" ismini listeden siliniz.\n",
        "names.pop(-2)\n",
        "print(names)\n",
        "\n",
        "# 15-  \"Ali\" listenin bir elemanı mıdır ?\n",
        "print(names.index(\"Ali\"))\n",
        "\n",
        "# 16-  Liste elemanlarını ters çevirin.\n",
        "names.reverse()\n",
        "print(names)\n",
        "\n",
        "# 17-  Liste elemanlarını alfabetik olarak sıralayınız.\n",
        "names.sort()\n",
        "print(names)\n",
        "\n",
        "# 18-  years listesini rakamsal büyüklüğe göre sıralayınız.\n",
        "years.sort()\n",
        "print(years)\n",
        "\n",
        "# 19-  str = \"Chevrolet,Dacia\" karakter dizisini listeye çeviriniz.\n",
        "str= \"Chevrolet,Dacia\"\n",
        "print(str.split(\",\"))\n",
        "\n",
        "# 20 - years dizisinde kaç tane 1998 değeri vardır ?\n",
        "print(years.count(1998))\n",
        "\n",
        "# 21- years dizisinin tüm elemanlarını siliniz.\n",
        "years.clear()\n",
        "print(years)"
      ],
      "metadata": {
        "id": "IvU0RSw6Yj8O",
        "colab": {
          "base_uri": "https://localhost:8080/"
        },
        "outputId": "9e0de0b3-1d44-430d-bd07-ba9f33b8322c"
      },
      "execution_count": null,
      "outputs": [
        {
          "output_type": "stream",
          "name": "stdout",
          "text": [
            "['Bmw', 'Mercedes', 'Opel', 'Mazda']\n",
            "4\n",
            "Bmw\n",
            "Mazda\n",
            "['Bmw', 'Mercedes', 'Opel', 'Toyota']\n",
            "Opel\n",
            "['Bmw', 'Mercedes', 'Opel']\n",
            "['Bmw', 'Mercedes', 'Toyota', 'Renault']\n",
            "['Bmw', 'Mercedes', 'Toyota', 'Renault']\n",
            "['Bmw', 'Mercedes', 'Toyota']\n",
            "['Toyota', 'Mercedes', 'Bmw']\n",
            "['Ali', 'Yağmur', 'Hakan', 'Deniz']\n",
            "[1998, 2000, 1998, 1987]\n",
            "['Ali', 'Yağmur', 'Hakan', 'Deniz', 'Cenk']\n",
            "['Sena', 'Ali', 'Yağmur', 'Hakan', 'Deniz', 'Cenk']\n",
            "['Sena', 'Ali', 'Yağmur', 'Hakan', 'Cenk']\n",
            "1\n",
            "['Cenk', 'Hakan', 'Yağmur', 'Ali', 'Sena']\n",
            "['Ali', 'Cenk', 'Hakan', 'Sena', 'Yağmur']\n",
            "[1987, 1998, 1998, 2000]\n",
            "['Chevrolet', 'Dacia']\n",
            "2\n",
            "[]\n"
          ]
        }
      ]
    },
    {
      "cell_type": "code",
      "source": [],
      "metadata": {
        "id": "AKotQhnDMWxc"
      },
      "execution_count": null,
      "outputs": []
    }
  ]
}