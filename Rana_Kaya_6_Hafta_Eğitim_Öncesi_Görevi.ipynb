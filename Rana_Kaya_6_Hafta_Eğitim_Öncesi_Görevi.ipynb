{
  "metadata": {
    "kernelspec": {
      "language": "python",
      "display_name": "Python 3",
      "name": "python3"
    },
    "language_info": {
      "name": "python",
      "version": "3.7.6",
      "mimetype": "text/x-python",
      "codemirror_mode": {
        "name": "ipython",
        "version": 3
      },
      "pygments_lexer": "ipython3",
      "nbconvert_exporter": "python",
      "file_extension": ".py"
    },
    "colab": {
      "provenance": [],
      "include_colab_link": true
    }
  },
  "nbformat_minor": 0,
  "nbformat": 4,
  "cells": [
    {
      "cell_type": "markdown",
      "metadata": {
        "id": "view-in-github",
        "colab_type": "text"
      },
      "source": [
        "<a href=\"https://colab.research.google.com/github/lkayarana/YetGen_Jump_Python/blob/main/Rana_Kaya_6_Hafta_E%C4%9Fitim_%C3%96ncesi_G%C3%B6revi.ipynb\" target=\"_parent\"><img src=\"https://colab.research.google.com/assets/colab-badge.svg\" alt=\"Open In Colab\"/></a>"
      ]
    },
    {
      "cell_type": "markdown",
      "source": [
        "# Problem 1 \n",
        "\n",
        "Vehicle sınıfının tüm değişkenlerini ve yöntemlerini devralacak bir alt sınıf olarak Bus sınıfı oluşturunuz.\n",
        "\n",
        "\n",
        "\n",
        "```\n",
        "Output\n",
        "> Name: School Volvo Speed: 180 Mileage: 12\n",
        "```\n",
        "\n"
      ],
      "metadata": {
        "id": "TgThq8IVSaxd"
      }
    },
    {
      "cell_type": "code",
      "source": [
        "class Vehicle:\n",
        "\n",
        "    def __init__(self, name, max_speed, mileage):\n",
        "        self.name = name\n",
        "        self.max_speed = max_speed\n",
        "        self.mileage = mileage\n",
        "\n",
        "class Bus(Vehicle):\n",
        "  pass\n",
        "\n",
        "bus_1=Bus(\"School Volvo\", 180, 12)\n",
        "print(\"Name:\", bus_1.name, \"Speed:\", bus_1.max_speed, \"Mileage:\", bus_1.mileage)\n",
        "\n",
        "# 1. problemimiz için kodlarını buraya yazabilirsin."
      ],
      "metadata": {
        "id": "pE4g7ofvTL03",
        "colab": {
          "base_uri": "https://localhost:8080/"
        },
        "outputId": "40996ca0-5647-4e70-e98c-9ee08c84b53e"
      },
      "execution_count": null,
      "outputs": [
        {
          "output_type": "stream",
          "name": "stdout",
          "text": [
            "Name: School Volvo Speed: 180 Mileage: 12\n"
          ]
        }
      ]
    },
    {
      "cell_type": "markdown",
      "source": [
        "# Problem 2\n",
        "Vehicle sınıfından miras alan bir Bus sınıfı oluşturun. Bus.seating_capacity()'nin kapasite bağımsız değişkenine varsayılan olarak 50 değerini verin.\n",
        "\n",
        "```\n",
        "Output:\n",
        "> The seating capacity of a bus is 50 passengers\n",
        "```\n",
        "\n",
        "\n"
      ],
      "metadata": {
        "id": "QClZllGoTTHo"
      }
    },
    {
      "cell_type": "code",
      "source": [
        "# Vehicle sınıfınız için aşağıdaki kodu kullanın.\n",
        "class Vehicle:\n",
        "    def __init__(self, name, max_speed, mileage):\n",
        "        self.name = name\n",
        "        self.max_speed = max_speed\n",
        "        self.mileage = mileage\n",
        "\n",
        "    def seating_capacity(self, capacity):\n",
        "        return f\"The seating capacity of a {self.name} is {capacity} passengers\"\n",
        "# 2. problemimiz için kodlarını buraya yazabilirsin.\n",
        "\n",
        "class Bus(Vehicle):\n",
        "  def seating_capacitiy(self, capacity=50):\n",
        "    return super().seating_capacity(capacity=50)\n",
        "\n",
        "School_bus=Bus(\"School Volvo\", 180, 12)\n",
        "print(School_bus.seating_capacitiy())"
      ],
      "metadata": {
        "id": "tXLxdXevTr7-",
        "colab": {
          "base_uri": "https://localhost:8080/"
        },
        "outputId": "50ad671d-9227-4784-bec3-63949cf00c9f"
      },
      "execution_count": null,
      "outputs": [
        {
          "output_type": "stream",
          "name": "stdout",
          "text": [
            "The seating capacity of a School Volvo is 50 passengers\n"
          ]
        }
      ]
    },
    {
      "cell_type": "markdown",
      "source": [
        "# Problem 3\n",
        "\n",
        "\n",
        "School_bus'ın aynı zamanda Vehicle sınıfının bir örneği olup olmadığını belirleyiniz."
      ],
      "metadata": {
        "id": "Y6rL7WoqUeX0"
      }
    },
    {
      "cell_type": "code",
      "source": [
        "class Vehicle:\n",
        "    def __init__(self, name, mileage, capacity):\n",
        "        self.name = name\n",
        "        self.mileage = mileage\n",
        "        self.capacity = capacity\n",
        "\n",
        "class Bus(Vehicle):\n",
        "    pass\n",
        "\n",
        "School_bus = Bus(\"School Volvo\", 12, 50)\n",
        "# 3. problemimiz için kodlarını buraya yazabilirsin.\n",
        "print(isinstance(School_bus, Vehicle))"
      ],
      "metadata": {
        "id": "MlMrIrOPUsPb",
        "colab": {
          "base_uri": "https://localhost:8080/"
        },
        "outputId": "b74ab40d-77a0-4ab9-fc92-ecf22e1acadb"
      },
      "execution_count": 2,
      "outputs": [
        {
          "output_type": "stream",
          "name": "stdout",
          "text": [
            "True\n"
          ]
        }
      ]
    },
    {
      "cell_type": "code",
      "source": [],
      "metadata": {
        "id": "Zi0-Q1_2kzED"
      },
      "execution_count": null,
      "outputs": []
    }
  ]
}