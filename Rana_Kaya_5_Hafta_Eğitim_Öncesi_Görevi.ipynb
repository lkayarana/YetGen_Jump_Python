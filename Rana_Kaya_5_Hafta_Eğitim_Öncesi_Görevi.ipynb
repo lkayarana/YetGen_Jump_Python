{
  "metadata": {
    "kernelspec": {
      "display_name": "Python 3",
      "language": "python",
      "name": "python3"
    },
    "language_info": {
      "codemirror_mode": {
        "name": "ipython",
        "version": 3
      },
      "file_extension": ".py",
      "mimetype": "text/x-python",
      "name": "python",
      "nbconvert_exporter": "python",
      "pygments_lexer": "ipython3",
      "version": "3.6.5"
    },
    "learntools_metadata": {
      "lesson_index": 2,
      "type": "exercise"
    },
    "colab": {
      "provenance": [],
      "collapsed_sections": [
        "_iR7juEEWmeM",
        "axU14APhBq6f",
        "bg8RD76bBq6j",
        "BYC1XmOMBq6m",
        "u8uDrQjiBq6o",
        "kqlyoeXbBq6c",
        "Q60-l39dCtbz",
        "PnQQgNojCtb8",
        "--1zaA48DH-8",
        "NnavllziDxaH"
      ],
      "include_colab_link": true
    }
  },
  "nbformat_minor": 0,
  "nbformat": 4,
  "cells": [
    {
      "cell_type": "markdown",
      "metadata": {
        "id": "view-in-github",
        "colab_type": "text"
      },
      "source": [
        "<a href=\"https://colab.research.google.com/github/lkayarana/YetGen_Jump_Python/blob/main/Rana_Kaya_5_Hafta_E%C4%9Fitim_%C3%96ncesi_G%C3%B6revi.ipynb\" target=\"_parent\"><img src=\"https://colab.research.google.com/assets/colab-badge.svg\" alt=\"Open In Colab\"/></a>"
      ]
    },
    {
      "cell_type": "markdown",
      "source": [
        "#**Welcome 🌸**"
      ],
      "metadata": {
        "id": "13NUdEFoW-IF"
      }
    },
    {
      "cell_type": "markdown",
      "source": [
        "Merhaba değerli Jumperımız! 🤩 5. hafta eğitim öncesi görevimize hoş geldin.\n",
        "\n",
        "\n",
        "Python programlama dili başta olmak üzere yazılım alanında yaptığımız araştırmalarda karşımıza çıkan çoğu kaynağın yabancı dillerde olduğunu eminiz sen de fark etmişsindir. Biz de bu alandaki kasını geliştirmekte katkı sağlamak ve yabancı dillerdeki dokümantasyonlara alışman için geçtiğimiz haftalarda olduğu gibi bu haftada da eğitim öncesi görevlerimizi seninle İngilizce olarak paylaştık 🐍\n",
        "\n",
        "**Doğru araştırmalara bu durumun üzerinden gelebileceğine inanıyoruz! 🤓**\n",
        "\n"
      ],
      "metadata": {
        "id": "Q0KWHkxWXyrI"
      }
    },
    {
      "cell_type": "markdown",
      "source": [
        "Bu haftamızda senden **aşağıdaki 7 problemimiz için** uygun birer program geliştirmeni bekliyoruz. Bununla birlikte çözmeni beklediğimiz ilk 7 problemi tamamladıktan sonra dilersen konunun detayına inmek, daha fazla pratik yapmak ve ekstra puanlar kazanmak için seninle problemlerin sonunda paylaştığımız **opsiyonel sorular** üzerine de çalışabilirsin 🥳\n"
      ],
      "metadata": {
        "id": "jbEc4akgZjKB"
      }
    },
    {
      "cell_type": "markdown",
      "source": [
        "⭐ Unutmayalım ki, öğrendiğimiz yeni bir konuyu pekiştirmek için en doğru yol konu üzerine daha fazla pratik yapmaktır!"
      ],
      "metadata": {
        "id": "bendK4qwcA2x"
      }
    },
    {
      "cell_type": "markdown",
      "source": [
        "# 1.\n",
        "\n",
        "Many programming languages have [`sign`](https://en.wikipedia.org/wiki/Sign_function) available as a built-in function. Python doesn't, but we can define our own!\n",
        "\n",
        "In the cell below, define a function called `sign` which takes a numerical argument and returns -1 if it's negative, 1 if it's positive, and 0 if it's 0."
      ],
      "metadata": {
        "id": "kN4JulvpBq6K"
      }
    },
    {
      "cell_type": "code",
      "source": [
        "# Your code goes here. Define a function called 'sign'\n",
        "def sign(number):\n",
        "  if number>0:\n",
        "    return 1\n",
        "  elif number<0:\n",
        "    return -1\n",
        "  else:\n",
        "    return 0\n",
        "\n",
        "number=int(input(\"Please enter a number: \"))\n",
        "print(sign(number))"
      ],
      "metadata": {
        "id": "8hCSkV4eBq6L",
        "colab": {
          "base_uri": "https://localhost:8080/"
        },
        "outputId": "44626275-821c-4a60-da87-1fc93071a4c2"
      },
      "execution_count": null,
      "outputs": [
        {
          "output_type": "stream",
          "name": "stdout",
          "text": [
            "Please enter a number: 4\n",
            "1\n"
          ]
        }
      ]
    },
    {
      "cell_type": "markdown",
      "source": [
        "# 2.\n",
        "\n",
        "You are analyzing sports teams.  Members of each team are stored in a list. The Coach is the first name in the list, the captain is the second name in the list, and other players are listed after that. \n",
        "These lists are stored in another list, which starts with the best team and proceeds through the list to the worst team last.  Complete the function below to select the **captain** of the worst team."
      ],
      "metadata": {
        "id": "bw0uD81wCtb2"
      }
    },
    {
      "cell_type": "code",
      "source": [
        "def losing_team_captain(teams):\n",
        "    \"\"\"Given a list of teams, where each team is a list of names, return the 2nd player (captain)\n",
        "    from the last listed team\n",
        "    \"\"\"\n",
        "    return (teams[-1][1])\n",
        "print(losing_team_captain([[\"Berke\", \"Ali\", \"Cem\", \"Burcu\"], [\"Ömer\", \"Görkem\", \"Ceyda\", \"Ferhunde\"]]))"
      ],
      "metadata": {
        "id": "OMjG2rzhCtb3",
        "colab": {
          "base_uri": "https://localhost:8080/"
        },
        "outputId": "e82fdf06-1d27-4612-be63-a1b7e0694b22"
      },
      "execution_count": null,
      "outputs": [
        {
          "output_type": "stream",
          "name": "stdout",
          "text": [
            "Görkem\n"
          ]
        }
      ]
    },
    {
      "cell_type": "markdown",
      "source": [
        "# 3. <span title=\"A bit spicy\" style=\"color: darkgreen \">🌶️</span>\n",
        "\n",
        "We're using lists to record people who attended our party and what order they arrived in. For example, the following list represents a party with 7 guests, in which Adela showed up first and Ford was the last to arrive:\n",
        "\n",
        "    party_attendees = ['Adela', 'Fleda', 'Owen', 'May', 'Mona', 'Gilbert', 'Ford']\n",
        "\n",
        "A guest is considered 'fashionably late' if they arrived after at least half of the party's guests. However, they must not be the very last guest (that's taking it too far). In the above example, Mona and Gilbert are the only guests who were fashionably late.\n",
        "\n",
        "Complete the function below which takes a list of party attendees as well as a person, and tells us whether that person is fashionably late."
      ],
      "metadata": {
        "id": "MwvGLFK7Ctb-"
      }
    },
    {
      "cell_type": "code",
      "source": [
        "def fashionably_late(arrivals, name):\n",
        "    \"\"\"Given an ordered list of arrivals to the party and a name, return whether the guest with that\n",
        "    name was fashionably late.\n",
        "    \"\"\"\n",
        "    order=arrivals.index(name)\n",
        "    return order >= len(arrivals)/2 and order !=len(arrivals) -1\n",
        "attendees=['Adela', 'Fleda', 'Owen', 'May', 'Mona', 'Gilbert', 'Ford']\n",
        "print(fashionably_late(attendees,\"Adela\"))"
      ],
      "metadata": {
        "id": "mEfJMSZbCtb_",
        "colab": {
          "base_uri": "https://localhost:8080/"
        },
        "outputId": "e74fec85-8632-467d-e51e-c2d3194d1d3c"
      },
      "execution_count": null,
      "outputs": [
        {
          "output_type": "stream",
          "name": "stdout",
          "text": [
            "False\n"
          ]
        }
      ]
    },
    {
      "cell_type": "markdown",
      "source": [
        "# 4.\n",
        "\n",
        "A researcher has gathered thousands of news articles. But she wants to focus her attention on articles including a specific word. Complete the function below to help her filter her list of articles.\n",
        "\n",
        "Your function should meet the following criteria:\n",
        "\n",
        "- Do not include documents where the keyword string shows up only as a part of a larger word. For example, if she were looking for the keyword “closed”, you would not include the string “enclosed.” \n",
        "- She does not want you to distinguish upper case from lower case letters. So the phrase “Closed the case.” would be included when the keyword is “closed”\n",
        "- Do not let periods or commas affect what is matched. “It is closed.” would be included when the keyword is “closed”. But you can assume there are no other types of punctuation."
      ],
      "metadata": {
        "id": "dboB6TdcDxaI"
      }
    },
    {
      "cell_type": "code",
      "source": [
        "from prompt_toolkit.layout.processors import Document\n",
        "def word_search(doc_list, keyword):\n",
        "    \"\"\"\n",
        "    Takes a list of documents (each document is a string) and a keyword. \n",
        "    Returns list of the index values into the original list for all documents \n",
        "    containing the keyword.\n",
        "\n",
        "    Example:\n",
        "    doc_list = [\"The Learn Python Challenge Casino.\", \"They bought a car\", \"Casinoville\"]\n",
        "    >>> word_search(doc_list, 'casino')\n",
        "    >>> [0]\n",
        "    \"\"\"\n",
        "    indices=[]\n",
        "    for i, doc in enumerate(doc_list):\n",
        "      tokens=doc.split()\n",
        "      normalized= [token.rstrip('.,').lower() for token in tokens]\n",
        "      if keyword.lower() in normalized:\n",
        "        indices.append(i)\n",
        "    return indices\n",
        "\n",
        "doc_list=[\"The Learn Python Challenge Casino.\", \"They bought a car\", \"Casinoville\"]\n",
        "print(word_search(doc_list, \"casino\"))"
      ],
      "metadata": {
        "id": "u3f8plZvDxaJ",
        "colab": {
          "base_uri": "https://localhost:8080/"
        },
        "outputId": "399d769c-eff4-4e2f-f848-94626a42dcf3"
      },
      "execution_count": null,
      "outputs": [
        {
          "output_type": "stream",
          "name": "stdout",
          "text": [
            "[0]\n"
          ]
        }
      ]
    },
    {
      "cell_type": "markdown",
      "source": [
        "# 5.\n",
        "\n",
        "Now the researcher wants to supply multiple keywords to search for. Complete the function below to help her.\n",
        "\n",
        "(You're encouraged to use the `word_search` function you just wrote when implementing this function. Reusing code in this way makes your programs more robust and readable - and it saves typing!)"
      ],
      "metadata": {
        "id": "u5LNraKGDxaK"
      }
    },
    {
      "cell_type": "code",
      "source": [
        "def multi_word_search(doc_list, keywords):\n",
        "    \"\"\"\n",
        "    Takes list of documents (each document is a string) and a list of keywords.  \n",
        "    Returns a dictionary where each key is a keyword, and the value is a list of indices\n",
        "    (from doc_list) of the documents containing that keyword\n",
        "\n",
        "    >>> doc_list = [\"The Learn Python Challenge Casino.\", \"They bought a car and a casino\", \"Casinoville\"]\n",
        "    >>> keywords = ['casino', 'they']\n",
        "    >>> multi_word_search(doc_list, keywords)\n",
        "    {'casino': [0, 1], 'they': [1]}\n",
        "    \"\"\"\n",
        "    kindices={}\n",
        "    for keyword in keywords:\n",
        "        kindices[keyword] = word_search(doc_list, keyword)\n",
        "    return kindices\n",
        "\n",
        "doc_list=[\"The Learn Python Challenge Casino.\", \"They bought a car\", \"Casinoville\"]\n",
        "print(multi_word_search(doc_list, ['casino', 'they,']))"
      ],
      "metadata": {
        "id": "5e5yCkDPDxaK",
        "colab": {
          "base_uri": "https://localhost:8080/",
          "height": 339
        },
        "outputId": "90f27aa7-d417-4ade-b84e-fcf460c5237a"
      },
      "execution_count": null,
      "outputs": [
        {
          "output_type": "error",
          "ename": "TypeError",
          "evalue": "ignored",
          "traceback": [
            "\u001b[0;31m---------------------------------------------------------------------------\u001b[0m",
            "\u001b[0;31mTypeError\u001b[0m                                 Traceback (most recent call last)",
            "\u001b[0;32m<ipython-input-13-46e345af7041>\u001b[0m in \u001b[0;36m<module>\u001b[0;34m\u001b[0m\n\u001b[1;32m     16\u001b[0m \u001b[0;34m\u001b[0m\u001b[0m\n\u001b[1;32m     17\u001b[0m \u001b[0mdoc_list\u001b[0m\u001b[0;34m=\u001b[0m\u001b[0;34m[\u001b[0m\u001b[0;34m\"The Learn Python Challenge Casino.\"\u001b[0m\u001b[0;34m,\u001b[0m \u001b[0;34m\"They bought a car\"\u001b[0m\u001b[0;34m,\u001b[0m \u001b[0;34m\"Casinoville\"\u001b[0m\u001b[0;34m]\u001b[0m\u001b[0;34m\u001b[0m\u001b[0;34m\u001b[0m\u001b[0m\n\u001b[0;32m---> 18\u001b[0;31m \u001b[0mprint\u001b[0m\u001b[0;34m(\u001b[0m\u001b[0mmulti_word_search\u001b[0m\u001b[0;34m(\u001b[0m\u001b[0mdoc_list\u001b[0m\u001b[0;34m,\u001b[0m \u001b[0;34m[\u001b[0m\u001b[0;34m'casino'\u001b[0m\u001b[0;34m,\u001b[0m \u001b[0;34m'they,'\u001b[0m\u001b[0;34m]\u001b[0m\u001b[0;34m)\u001b[0m\u001b[0;34m)\u001b[0m\u001b[0;34m\u001b[0m\u001b[0;34m\u001b[0m\u001b[0m\n\u001b[0m",
            "\u001b[0;32m<ipython-input-13-46e345af7041>\u001b[0m in \u001b[0;36mmulti_word_search\u001b[0;34m(doc_list, keywords)\u001b[0m\n\u001b[1;32m     12\u001b[0m     \u001b[0mkindices\u001b[0m\u001b[0;34m=\u001b[0m\u001b[0;34m{\u001b[0m\u001b[0;34m}\u001b[0m\u001b[0;34m\u001b[0m\u001b[0;34m\u001b[0m\u001b[0m\n\u001b[1;32m     13\u001b[0m     \u001b[0;32mfor\u001b[0m \u001b[0mkeyword\u001b[0m \u001b[0;32min\u001b[0m \u001b[0mkeyword\u001b[0m\u001b[0;34m:\u001b[0m\u001b[0;34m\u001b[0m\u001b[0;34m\u001b[0m\u001b[0m\n\u001b[0;32m---> 14\u001b[0;31m         \u001b[0mkindices\u001b[0m\u001b[0;34m[\u001b[0m\u001b[0mkeywords\u001b[0m\u001b[0;34m]\u001b[0m \u001b[0;34m=\u001b[0m \u001b[0mword_search\u001b[0m\u001b[0;34m(\u001b[0m\u001b[0mdoc_list\u001b[0m\u001b[0;34m,\u001b[0m \u001b[0mkeyword\u001b[0m\u001b[0;34m)\u001b[0m\u001b[0;34m\u001b[0m\u001b[0;34m\u001b[0m\u001b[0m\n\u001b[0m\u001b[1;32m     15\u001b[0m     \u001b[0;32mreturn\u001b[0m \u001b[0mkindices\u001b[0m\u001b[0;34m\u001b[0m\u001b[0;34m\u001b[0m\u001b[0m\n\u001b[1;32m     16\u001b[0m \u001b[0;34m\u001b[0m\u001b[0m\n",
            "\u001b[0;31mTypeError\u001b[0m: unhashable type: 'list'"
          ]
        }
      ]
    },
    {
      "cell_type": "markdown",
      "source": [
        "# 6.\n",
        "\n",
        "The next iteration of Mario Kart will feature an extra-infuriating new item, the *Purple Shell*. When used, it warps the last place racer into first place and the first place racer into last place. Complete the function below to implement the Purple Shell's effect."
      ],
      "metadata": {
        "id": "RJnZ9hQ2Ctb5"
      }
    },
    {
      "cell_type": "code",
      "source": [
        "def purple_shell(racers):\n",
        "    \"\"\"Given a list of racers, set the first place racer (at the front of the list) to last\n",
        "    place and vice versa.\n",
        "    \n",
        "    >>> r = [\"Mario\", \"Bowser\", \"Luigi\"]\n",
        "    >>> purple_shell(r)\n",
        "    >>> r\n",
        "    [\"Luigi\", \"Bowser\", \"Mario\"]\n",
        "    \"\"\"\n",
        "    racers[0], racers[-1] = racers[-1], racers[0]\n",
        "  \n",
        "r=[\"Mario\", \"Bowser\", \"Luigi\"]\n",
        "purple_shell(r)\n",
        "print(r)"
      ],
      "metadata": {
        "id": "3mtOHVBMCtb6",
        "colab": {
          "base_uri": "https://localhost:8080/"
        },
        "outputId": "78f58f4a-d8f1-4b06-db92-4acd4e3e9e48"
      },
      "execution_count": null,
      "outputs": [
        {
          "output_type": "stream",
          "name": "stdout",
          "text": [
            "['Luigi', 'Bowser', 'Mario']\n"
          ]
        }
      ]
    },
    {
      "cell_type": "markdown",
      "source": [
        "# 7.\n",
        "\n",
        "Complete the body of the function below according to its docstring."
      ],
      "metadata": {
        "id": "122VGxhKDH_E"
      }
    },
    {
      "cell_type": "code",
      "source": [
        "def menu_is_boring(meals):\n",
        "    \"\"\"Given a list of meals served over some period of time, return True if the\n",
        "    same meal has ever been served two days in a row, and False otherwise.\n",
        "    \"\"\"\n",
        "    for i in range(len(meals)-1):\n",
        "      if meals[i] == meals[i+1]:\n",
        "        return True\n",
        "      else:\n",
        "        return False\n",
        "print(menu_is_boring([\"soup\", \"fries\", \"meat\", \"vegetables\"]))\n",
        "print(menu_is_boring([\"vegetables\", \"vegetables\", \"vegetables\"]))"
      ],
      "metadata": {
        "id": "lTvrzgbFDH_F",
        "colab": {
          "base_uri": "https://localhost:8080/"
        },
        "outputId": "695557f8-b003-4523-84f2-f81a0677b725"
      },
      "execution_count": null,
      "outputs": [
        {
          "output_type": "stream",
          "name": "stdout",
          "text": [
            "False\n",
            "True\n"
          ]
        }
      ]
    },
    {
      "cell_type": "markdown",
      "source": [
        "---"
      ],
      "metadata": {
        "id": "SerT4emIWqq5"
      }
    },
    {
      "cell_type": "markdown",
      "source": [
        "#**Optional Questions**"
      ],
      "metadata": {
        "id": "_iR7juEEWmeM"
      }
    },
    {
      "cell_type": "markdown",
      "source": [
        "## 1a.\n",
        "\n",
        "The boolean variables `ketchup`, `mustard` and `onion` represent whether a customer wants a particular topping on their hot dog. We want to implement a number of boolean functions that correspond to some yes-or-no questions about the customer's order. For example:"
      ],
      "metadata": {
        "id": "axU14APhBq6f"
      }
    },
    {
      "cell_type": "code",
      "source": [
        "def onionless(ketchup, mustard, onion):\n",
        "    \"\"\"Return whether the customer doesn't want onions.\n",
        "    \"\"\"\n",
        "    return not onion"
      ],
      "metadata": {
        "id": "5T9AwrEzBq6g"
      },
      "execution_count": null,
      "outputs": []
    },
    {
      "cell_type": "code",
      "source": [
        "def wants_all_toppings(ketchup, mustard, onion):\n",
        "    \"\"\"Return whether the customer wants \"the works\" (all 3 toppings)\n",
        "    \"\"\"\n",
        "    return (ketchup and mustard and onion)"
      ],
      "metadata": {
        "id": "yo9qtigaBq6h"
      },
      "execution_count": null,
      "outputs": []
    },
    {
      "cell_type": "markdown",
      "source": [
        "## 1b.\n",
        "\n",
        "For the next function, fill in the body to match the English description in the docstring. "
      ],
      "metadata": {
        "id": "bg8RD76bBq6j"
      }
    },
    {
      "cell_type": "code",
      "source": [
        "def wants_plain_hotdog(ketchup, mustard, onion):\n",
        "    \"\"\"Return whether the customer wants a plain hot dog with no toppings.\n",
        "    \"\"\"\n",
        "    return not(ketchup or mustard or onion)"
      ],
      "metadata": {
        "id": "ni8cjs3bBq6k"
      },
      "execution_count": null,
      "outputs": []
    },
    {
      "cell_type": "markdown",
      "source": [
        "## 1c.\n",
        "\n",
        "You know what to do: for the next function, fill in the body to match the English description in the docstring."
      ],
      "metadata": {
        "id": "BYC1XmOMBq6m"
      }
    },
    {
      "cell_type": "code",
      "source": [
        "def exactly_one_sauce(ketchup, mustard, onion):\n",
        "    \"\"\"Return whether the customer wants either ketchup or mustard, but not both.\n",
        "    (You may be familiar with this operation under the name \"exclusive or\")\n",
        "    \"\"\"\n",
        "    return (ketchup or mustard) and not (ketchup and mustard)"
      ],
      "metadata": {
        "id": "qeq4H2kfBq6m"
      },
      "execution_count": null,
      "outputs": []
    },
    {
      "cell_type": "markdown",
      "source": [
        "## 2. <span title=\"A bit spicy\" style=\"color: darkgreen \">🌶️</span> \n",
        "\n",
        "We’ve seen that calling `bool()` on an integer returns `False` if it’s equal to 0 and `True` otherwise. What happens if we call `int()` on a bool? Try it out in the notebook cell below.\n",
        "\n",
        "Can you take advantage of this to write a succinct function that corresponds to the English sentence \"does the customer want exactly one topping?\"?"
      ],
      "metadata": {
        "id": "u8uDrQjiBq6o"
      }
    },
    {
      "cell_type": "code",
      "source": [
        "def exactly_one_topping(ketchup, mustard, onion):\n",
        "    \"\"\"Return whether the customer wants exactly one of the three available toppings\n",
        "    on their hot dog.\n",
        "    \"\"\"\n",
        "    return ketchup + mustard + onion ==1\n"
      ],
      "metadata": {
        "id": "m2rejvKcBq6p"
      },
      "execution_count": null,
      "outputs": []
    },
    {
      "cell_type": "markdown",
      "source": [
        "## 3.\n",
        "\n",
        "The function `is_negative` below is implemented correctly - it returns True if the given number is negative and False otherwise.\n",
        "\n",
        "However, it's more verbose than it needs to be. We can actually reduce the number of lines of code in this function by *75%* while keeping the same behaviour. \n",
        "\n",
        "See if you can come up with an equivalent body that uses just **one line** of code, and put it in the function `concise_is_negative`. (HINT: you don't even need Python's ternary syntax)"
      ],
      "metadata": {
        "id": "kqlyoeXbBq6c"
      }
    },
    {
      "cell_type": "code",
      "source": [
        "def is_negative(number):\n",
        "    if number < 0:\n",
        "        return True\n",
        "    else:\n",
        "        return False\n",
        "\n",
        "def concise_is_negative(number):\n",
        "    return number<0 # Your code goes here (try to keep it to one line!)\n",
        "\n"
      ],
      "metadata": {
        "id": "_SFRe4uhBq6d"
      },
      "execution_count": null,
      "outputs": []
    },
    {
      "cell_type": "markdown",
      "source": [
        "## 4.\n",
        "\n",
        "Complete the function below according to its docstring."
      ],
      "metadata": {
        "id": "Q60-l39dCtbz"
      }
    },
    {
      "cell_type": "code",
      "source": [
        "def select_second(L):\n",
        "    \"\"\"Return the second element of the given list. If the list has no second\n",
        "    element, return None.\n",
        "    \"\"\"\n",
        "    if len(L)<2:\n",
        "      return None\n",
        "    else:\n",
        "      return L[1]\n",
        "\n",
        "print(select_second([\"Rana\", \"Emre\"]))\n",
        "print(select_second([\"Rana\"]))"
      ],
      "metadata": {
        "id": "3GiUOb_jCtbz",
        "colab": {
          "base_uri": "https://localhost:8080/"
        },
        "outputId": "c8898424-cf0c-4df3-8c53-26ff39ad5259"
      },
      "execution_count": null,
      "outputs": [
        {
          "output_type": "stream",
          "name": "stdout",
          "text": [
            "Emre\n",
            "None\n"
          ]
        }
      ]
    },
    {
      "cell_type": "markdown",
      "source": [
        "## 5.\n",
        "\n",
        "What are the lengths of the following lists? Fill in the variable `lengths` with your predictions. (Try to make a prediction for each list *without* just calling `len()` on it.)"
      ],
      "metadata": {
        "id": "PnQQgNojCtb8"
      }
    },
    {
      "cell_type": "code",
      "source": [
        "a = [1, 2, 3]\n",
        "b = [1, [2, 3]]\n",
        "c = []\n",
        "d = [1, 2, 3][1:]\n",
        "\n",
        "# Put your predictions in the list below. Lengths should contain 4 numbers, the\n",
        "# first being the length of a, the second being the length of b and so on.\n",
        "lengths = [len(a), len(b), len(c), len(d)]\n",
        "print(lengths)"
      ],
      "metadata": {
        "id": "29-0kjf6Ctb9",
        "colab": {
          "base_uri": "https://localhost:8080/"
        },
        "outputId": "f2426316-712a-4208-a3f3-00f5aae55a00"
      },
      "execution_count": null,
      "outputs": [
        {
          "output_type": "stream",
          "name": "stdout",
          "text": [
            "[3, 2, 0, 2]\n"
          ]
        }
      ]
    },
    {
      "cell_type": "markdown",
      "source": [
        "## 6.\n",
        "Look at the Python expression below. What do you think we'll get when we run it? When you've made your prediction, uncomment the code and run the cell to see if you were right."
      ],
      "metadata": {
        "id": "--1zaA48DH-8"
      }
    },
    {
      "cell_type": "code",
      "source": [
        "[1, 2, 3, 4]> 2"
      ],
      "metadata": {
        "id": "7wfp0855DH--",
        "colab": {
          "base_uri": "https://localhost:8080/",
          "height": 166
        },
        "outputId": "34a59211-b302-4f17-929e-49a44e371ee6"
      },
      "execution_count": null,
      "outputs": [
        {
          "output_type": "error",
          "ename": "TypeError",
          "evalue": "ignored",
          "traceback": [
            "\u001b[0;31m---------------------------------------------------------------------------\u001b[0m",
            "\u001b[0;31mTypeError\u001b[0m                                 Traceback (most recent call last)",
            "\u001b[0;32m<ipython-input-30-6a84c6685163>\u001b[0m in \u001b[0;36m<module>\u001b[0;34m\u001b[0m\n\u001b[0;32m----> 1\u001b[0;31m \u001b[0;34m[\u001b[0m\u001b[0;36m1\u001b[0m\u001b[0;34m,\u001b[0m \u001b[0;36m2\u001b[0m\u001b[0;34m,\u001b[0m \u001b[0;36m3\u001b[0m\u001b[0;34m,\u001b[0m \u001b[0;36m4\u001b[0m\u001b[0;34m]\u001b[0m\u001b[0;34m>\u001b[0m \u001b[0;36m2\u001b[0m\u001b[0;34m\u001b[0m\u001b[0;34m\u001b[0m\u001b[0m\n\u001b[0m",
            "\u001b[0;31mTypeError\u001b[0m: '>' not supported between instances of 'list' and 'int'"
          ]
        }
      ]
    },
    {
      "cell_type": "markdown",
      "source": [
        "R and Python have some libraries (like numpy and pandas) compare each element of the list to 2 (i.e. do an 'element-wise' comparison) and give us a list of booleans like `[False, False, True, True]`. \n",
        "\n",
        "Implement a function that reproduces this behaviour, returning a list of booleans corresponding to whether the corresponding element is greater than n."
      ],
      "metadata": {
        "id": "ksIu7L6BDH_A"
      }
    },
    {
      "cell_type": "code",
      "source": [
        "def elementwise_greater_than(L, thresh):\n",
        "    \"\"\"Return a list with the same length as L, where the value at index i is \n",
        "    True if L[i] is greater than thresh, and False otherwise.\n",
        "    \n",
        "    >>> elementwise_greater_than([1, 2, 3, 4], 2)\n",
        "    [False, False, True, True]\n",
        "    \"\"\"\n",
        "    return [array > thresh for array in L]\n",
        "\n",
        "print(elementwise_greater_than([1, 2, 3, 4], 2))"
      ],
      "metadata": {
        "id": "WVJsfs3TDH_B",
        "colab": {
          "base_uri": "https://localhost:8080/"
        },
        "outputId": "68e3e12b-2b19-4722-85b9-59cc489d8bec"
      },
      "execution_count": null,
      "outputs": [
        {
          "output_type": "stream",
          "name": "stdout",
          "text": [
            "[False, False, True, True]\n"
          ]
        }
      ]
    },
    {
      "cell_type": "markdown",
      "source": [
        "## 7.\n",
        "\n",
        "There is a saying that \"Data scientists spend 80% of their time cleaning data, and 20% of their time complaining about cleaning data.\" Let's see if you can write a function to help clean US zip code data. Given a string, it should return whether or not that string represents a valid zip code. For our purposes, a valid zip code is any string consisting of exactly 5 digits.\n",
        "\n",
        "HINT: `str` has a method that will be useful here. Use `help(str)` to review a list of string methods."
      ],
      "metadata": {
        "id": "NnavllziDxaH"
      }
    },
    {
      "cell_type": "code",
      "source": [
        "def is_valid_zip(zip_code):\n",
        "    \"\"\"Returns whether the input string is a valid (5 digit) zip code\n",
        "    \"\"\"\n",
        "    return len(zip_code)==5 and zip_code.isdigit()\n",
        "print(is_valid_zip(\"12345\"))"
      ],
      "metadata": {
        "id": "Zvsr6UXbDxaH",
        "colab": {
          "base_uri": "https://localhost:8080/"
        },
        "outputId": "74432b42-ce17-4dc4-ff5c-603f75ca0892"
      },
      "execution_count": null,
      "outputs": [
        {
          "output_type": "stream",
          "name": "stdout",
          "text": [
            "True\n"
          ]
        }
      ]
    },
    {
      "cell_type": "code",
      "source": [],
      "metadata": {
        "id": "-UPBvHaU6BDS"
      },
      "execution_count": null,
      "outputs": []
    }
  ]
}
