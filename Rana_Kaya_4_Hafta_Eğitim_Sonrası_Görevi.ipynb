{
  "nbformat": 4,
  "nbformat_minor": 0,
  "metadata": {
    "colab": {
      "provenance": [],
      "collapsed_sections": [],
      "include_colab_link": true
    },
    "kernelspec": {
      "name": "python3",
      "display_name": "Python 3"
    },
    "language_info": {
      "name": "python"
    }
  },
  "cells": [
    {
      "cell_type": "markdown",
      "metadata": {
        "id": "view-in-github",
        "colab_type": "text"
      },
      "source": [
        "<a href=\"https://colab.research.google.com/github/lkayarana/YetGen_Jump_Python/blob/main/Rana_Kaya_4_Hafta_E%C4%9Fitim_Sonras%C4%B1_G%C3%B6revi.ipynb\" target=\"_parent\"><img src=\"https://colab.research.google.com/assets/colab-badge.svg\" alt=\"Open In Colab\"/></a>"
      ]
    },
    {
      "cell_type": "markdown",
      "source": [
        "# Problem 1\n",
        "`ogrenciler` adında bir sözlük oluşturunuz. Kullanıcıdan döngü yardımıyla 3 öğrenci için veri girmesini isteyerek öğrencilerin sırasıyla okul numarası, isim, soy isim, telefon numarası ve doğum tarihi bilgilerini alınız. Aldığınız öğrenci bilgilerini yine aynı döngü yardımıyla `ogrenciler` adındaki sözlükte saklayınız. Daha sonra öğrenci bilgilerinin bulunduğu sözlük yapısını ekrana bastırınız.\n",
        "\n"
      ],
      "metadata": {
        "id": "9SIIri9AXbPN"
      }
    },
    {
      "cell_type": "code",
      "execution_count": null,
      "metadata": {
        "id": "z7Mxxk2mQj3P",
        "colab": {
          "base_uri": "https://localhost:8080/"
        },
        "outputId": "a5d10e8d-2778-4a25-eb92-5fcf83403e27"
      },
      "outputs": [
        {
          "output_type": "stream",
          "name": "stdout",
          "text": [
            "okul numarasını giriniz:170105\n",
            "İsminizi giriniz:rana\n",
            "Soy isim giriniz:kaya\n",
            "Doğum tarihi giriniz:12-04-1999\n",
            "okul numarasını giriniz:170108\n",
            "İsminizi giriniz:ahmet\n",
            "Soy isim giriniz:tatlı\n",
            "Doğum tarihi giriniz:03-05-1998\n",
            "okul numarasını giriniz:170109\n",
            "İsminizi giriniz:caroline\n",
            "Soy isim giriniz:akarsu\n",
            "Doğum tarihi giriniz:04-08-1956\n",
            "**********************\n",
            "{3: {'Okul No': '170109', 'isim': 'caroline', 'Soy isim': 'akarsu', 'Telefon': 'Telefon numarası giriniz:', 'Doğum tarihi': '04-08-1956'}}\n"
          ]
        }
      ],
      "source": [
        "# 1. problemimiz için kodlarını buraya yazabilirsin.\n",
        "ogrenciler= {}\n",
        "\n",
        "for i in range(1,4):\n",
        "  okul_numarası=input(\"okul numarasını giriniz:\")\n",
        "  isim=input(\"İsminizi giriniz:\")\n",
        "  soy_isim=input(\"Soy isim giriniz:\")\n",
        "  telefon_numarası=(\"Telefon numarası giriniz:\")\n",
        "  dogum_tarihi=input(\"Doğum tarihi giriniz:\")\n",
        "\n",
        "print(\"**********************\")\n",
        "\n",
        "ogrenciler[i]={\n",
        "    \"Okul No\": okul_numarası,\n",
        "    \"isim\": isim,\n",
        "    \"Soy isim\": soy_isim,\n",
        "    \"Telefon\": telefon_numarası,\n",
        "    \"Doğum tarihi\": dogum_tarihi\n",
        "}\n",
        "\n",
        "print(ogrenciler)"
      ]
    },
    {
      "cell_type": "code",
      "source": [
        "ogrenciler"
      ],
      "metadata": {
        "colab": {
          "base_uri": "https://localhost:8080/"
        },
        "id": "gJKCDtMm0xfQ",
        "outputId": "f134fae9-3c29-4b12-9ad2-92dceb76a567"
      },
      "execution_count": null,
      "outputs": [
        {
          "output_type": "execute_result",
          "data": {
            "text/plain": [
              "{3: {'Okul No': '170109',\n",
              "  'isim': 'caroline',\n",
              "  'Soy isim': 'akarsu',\n",
              "  'Telefon': 'Telefon numarası giriniz:',\n",
              "  'Doğum tarihi': '04-08-1956'}}"
            ]
          },
          "metadata": {},
          "execution_count": 5
        }
      ]
    },
    {
      "cell_type": "markdown",
      "source": [
        "# Problem 2\n",
        "\n",
        "\n"
      ],
      "metadata": {
        "id": "OsED1gz0YYxa"
      }
    },
    {
      "cell_type": "markdown",
      "source": [
        "**a) 2. probleme biraz ısınarak başlayalım!**\n",
        "\n",
        "\n",
        "\n"
      ],
      "metadata": {
        "id": "aUaYz8zVLpGJ"
      }
    },
    {
      "cell_type": "markdown",
      "source": [
        "```\n",
        "numbers = [5,10,10,15,15,15,20,20,20,20]\n",
        "```\n",
        "\n",
        "Yukarıda `numbers` adında 10 elemanlı bir liste verilmiştir. Bu listenin her elemanını kontrol eden ve tekrar eden elemanları bir kez olacak şekilde başka bir listeye kopyalayan bir program yazınız. Son olarak oluşturduğunuz listeyi ekrana bastırınız.\n",
        "\n",
        "\n",
        "\n",
        "\n",
        "```\n",
        ">Output\n",
        "[5, 10, 15, 20]\n",
        "```\n"
      ],
      "metadata": {
        "id": "O7YlfB2_LkQT"
      }
    },
    {
      "cell_type": "code",
      "source": [
        "# 2. problemimizin \"a\" şıkkı için kodlarını buraya yazabilirsin.\n",
        "\n",
        "numbers = [5,10,10,15,15,15,20,20,20,20]\n",
        "\n",
        "unique=[]\n",
        "\n",
        "for number in numbers:\n",
        "  if number in unique:\n",
        "    continue\n",
        "  else:\n",
        "    unique.append(number)\n",
        "print(unique)"
      ],
      "metadata": {
        "id": "J_X_k4eNYZGQ",
        "colab": {
          "base_uri": "https://localhost:8080/"
        },
        "outputId": "1f95f247-07f2-45f2-bcfb-e26a12ba01f2"
      },
      "execution_count": null,
      "outputs": [
        {
          "output_type": "stream",
          "name": "stdout",
          "text": [
            "[5, 10, 15, 20]\n"
          ]
        }
      ]
    },
    {
      "cell_type": "markdown",
      "source": [
        "**🌶️ b) Hadi işi biraz daha zorlaştıralım!** \n"
      ],
      "metadata": {
        "id": "MKRfcVhGJ5LX"
      }
    },
    {
      "cell_type": "markdown",
      "source": [
        "Şimdiyse senden `numbers` isimli listedeki tekrar eden elemanları `repeatNumbers` adındaki listeye; tekrar etmeyen elemanları `uniqueNumbers`adındaki listeye kopyalayan yazmanı ve listeleri ekrana bastırmanı bekliyoruz\n",
        "\n",
        "```\n",
        ">Output\n",
        "Tekrar Eden Elemanlar: [10, 10, 15, 15, 15, 20, 20, 20, 20]\n",
        "Tekrar Etmeyen Elemanlar: [5]\n",
        "```"
      ],
      "metadata": {
        "id": "zwaBiEOYMD2T"
      }
    },
    {
      "cell_type": "code",
      "source": [
        "# 2. problemimizin \"b\" şıkkı için kodlarını buraya yazabilirsin.\n",
        "\n",
        "numbers = [5,10,10,15,15,15,20,20,20,20]\n",
        "\n",
        "unique=[]\n",
        "repeats=[]\n",
        "\n",
        "for number in numbers:\n",
        "  if numbers.count(number)==1:\n",
        "    unique.append(number)\n",
        "  else:\n",
        "    repeats.append(number)\n",
        "print(\"Unique Numbers:\",unique)\n",
        "print(\"Repeat Number:\",repeats)"
      ],
      "metadata": {
        "id": "EDjDVHtlNNt-",
        "colab": {
          "base_uri": "https://localhost:8080/"
        },
        "outputId": "ed9b2d47-ff08-4080-edb5-b9d065448f8b"
      },
      "execution_count": null,
      "outputs": [
        {
          "output_type": "stream",
          "name": "stdout",
          "text": [
            "Unique Numbers: [5]\n",
            "Repeat Number: [10, 10, 15, 15, 15, 20, 20, 20, 20]\n"
          ]
        }
      ]
    },
    {
      "cell_type": "markdown",
      "source": [
        "# Problem 3\n",
        "\n",
        "sn1 = {1,2,3,4,5}\n",
        "\n",
        "sn2 = {4,5,6,7,8}\n",
        "\n",
        " Verilen 2 adet küme için kesişimlerini, farklarını ve birleşimlerini bulunuz. \t "
      ],
      "metadata": {
        "id": "D2D9PfeaY-Qp"
      }
    },
    {
      "cell_type": "code",
      "source": [
        "# 3. problemimiz için kodlarını buraya yazabilirsin.\n",
        "sn1 = {1,2,3,4,5}\n",
        "\n",
        "sn2 = {4,5,6,7,8}\n",
        "\n",
        "x=sn1.intersection(sn2)\n",
        "print(\"Kesişim:\",x)"
      ],
      "metadata": {
        "colab": {
          "base_uri": "https://localhost:8080/"
        },
        "id": "f1ECFfsWLwsa",
        "outputId": "2a8add41-7156-41e2-b1b0-7fa642651510"
      },
      "execution_count": null,
      "outputs": [
        {
          "output_type": "stream",
          "name": "stdout",
          "text": [
            "Kesişim: {4, 5}\n"
          ]
        }
      ]
    },
    {
      "cell_type": "code",
      "source": [
        "sn1 = {1,2,3,4,5}\n",
        "\n",
        "sn2 = {4,5,6,7,8}\n",
        "\n",
        "y=sn1.difference(sn2)\n",
        "y=sn1.difference_update(sn2)\n",
        "print(\"Fark:\",y)\n",
        "print(sn1)"
      ],
      "metadata": {
        "colab": {
          "base_uri": "https://localhost:8080/"
        },
        "id": "8__7AaRh3Zas",
        "outputId": "3fb4244f-6847-4d71-baa5-ee5e2271a49d"
      },
      "execution_count": null,
      "outputs": [
        {
          "output_type": "stream",
          "name": "stdout",
          "text": [
            "Fark: None\n",
            "{1, 2, 3}\n"
          ]
        }
      ]
    },
    {
      "cell_type": "code",
      "source": [
        "sn1 = {1,2,3,4,5}\n",
        "\n",
        "sn2 = {4,5,6,7,8}\n",
        "\n",
        "y1=sn2.difference_update(sn1)\n",
        "print(\"Fark2:\",sn2)"
      ],
      "metadata": {
        "colab": {
          "base_uri": "https://localhost:8080/"
        },
        "id": "RTajXrRH4T4v",
        "outputId": "e9f1bebf-780d-41ad-bd94-a798b1117a11"
      },
      "execution_count": null,
      "outputs": [
        {
          "output_type": "stream",
          "name": "stdout",
          "text": [
            "Fark2: {6, 7, 8}\n"
          ]
        }
      ]
    },
    {
      "cell_type": "code",
      "source": [
        "sn1 = {1,2,3,4,5}\n",
        "\n",
        "sn2 = {4,5,6,7,8}\n",
        "\n",
        "z=sn1.update(sn2)\n",
        "print(\"Birleşim:\",sn1)"
      ],
      "metadata": {
        "colab": {
          "base_uri": "https://localhost:8080/"
        },
        "id": "n_mOY7T44xri",
        "outputId": "09e00e2c-bc7c-47c0-d75f-7862c5f885e4"
      },
      "execution_count": null,
      "outputs": [
        {
          "output_type": "stream",
          "name": "stdout",
          "text": [
            "Birleşim: {1, 2, 3, 4, 5, 6, 7, 8}\n"
          ]
        }
      ]
    },
    {
      "cell_type": "markdown",
      "source": [
        "#Problem 4\n",
        "\n",
        "[(\"xxx\",1),(\"xxx\",2),(\"xxx\",9),(\"xxx\",3), (\"xxx\",1),(\"xxx\",13),(\"xxx\",26),(\"xxx\",4)] listesi içerisinde verilen elemanların her birini tuple içindeki 2. Elemana göre sıralayınız. \n",
        "\n",
        "\n",
        "YetNot: Bu problem için ilerleyen haftalarda göreceğimiz ```lambda``` fonksiyonunu araştırabilirsiniz. Doğru araştırmayla, doğru cevaba ulaşabileceğiniz eminiz!\n"
      ],
      "metadata": {
        "id": "ZEMv0yn-YjgH"
      }
    },
    {
      "cell_type": "code",
      "source": [
        "# 4. problemimiz için kodlarını buraya yazabilirsin.\n",
        "y=[(\"xxx\",1),(\"xxx\",2),(\"xxx\",9),(\"xxx\",3), (\"xxx\",1),(\"xxx\",13),(\"xxx\",26),(\"xxx\",4)]\n",
        "\n",
        "y.sort(key=lambda y : y[1])\n",
        "print(y)"
      ],
      "metadata": {
        "id": "2Y2L8zfXY5hE",
        "colab": {
          "base_uri": "https://localhost:8080/"
        },
        "outputId": "48cb83bb-6803-44e3-9224-df53433398b1"
      },
      "execution_count": null,
      "outputs": [
        {
          "output_type": "stream",
          "name": "stdout",
          "text": [
            "[('xxx', 1), ('xxx', 1), ('xxx', 2), ('xxx', 3), ('xxx', 4), ('xxx', 9), ('xxx', 13), ('xxx', 26)]\n"
          ]
        }
      ]
    },
    {
      "cell_type": "code",
      "source": [
        "y"
      ],
      "metadata": {
        "id": "mZvuti7uqrXp",
        "colab": {
          "base_uri": "https://localhost:8080/"
        },
        "outputId": "3827a3e7-dda5-49a2-dd40-1ac7ae5dbf1c"
      },
      "execution_count": null,
      "outputs": [
        {
          "output_type": "execute_result",
          "data": {
            "text/plain": [
              "[('xxx', 1),\n",
              " ('xxx', 1),\n",
              " ('xxx', 2),\n",
              " ('xxx', 3),\n",
              " ('xxx', 4),\n",
              " ('xxx', 9),\n",
              " ('xxx', 13),\n",
              " ('xxx', 26)]"
            ]
          },
          "metadata": {},
          "execution_count": 25
        }
      ]
    },
    {
      "cell_type": "code",
      "source": [],
      "metadata": {
        "id": "KeX1bnAc5Nh_"
      },
      "execution_count": null,
      "outputs": []
    }
  ]
}